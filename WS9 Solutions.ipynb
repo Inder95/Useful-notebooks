{
 "cells": [
  {
   "cell_type": "markdown",
   "metadata": {},
   "source": [
    "# Worksheet 9: Solutions"
   ]
  },
  {
   "cell_type": "markdown",
   "metadata": {},
   "source": [
    "## Twitter Data Extraction\n",
    "** Q1 **  \n",
    "The L16 Twitter Notebook contains code to generate a time-series plot of wind-speed for the `@dublinbaybuoy` tweet data. Write code to produce an equivalent plot for the `@FastnetLHouse` data. The main challenge in this exercise is that the Tweets from the Fastnet account are in a slightly different format. So the main changes will be to the data extraction code. "
   ]
  },
  {
   "cell_type": "code",
   "execution_count": 8,
   "metadata": {},
   "outputs": [
    {
     "name": "stdout",
     "output_type": "stream",
     "text": [
      "Avg Wind:11kts, Gust:14kts, Wind Dir:86 °(E), Gust Dir:105 °(E) at 03/03/2018 15:08:00\n"
     ]
    }
   ],
   "source": [
    "FN_tweets = api.user_timeline(screen_name = '@FastnetLHouse',tweet_mode='extended',count=100)\n",
    "print(FN_tweets[0].full_text)"
   ]
  },
  {
   "cell_type": "code",
   "execution_count": 9,
   "metadata": {},
   "outputs": [
    {
     "name": "stdout",
     "output_type": "stream",
     "text": [
      "RT @DublinBayBuoy: Service update: 01/03/2018 The Dublin Bay Buoy Met Service is experiencing a technical issue which we are working to res…\n"
     ]
    }
   ],
   "source": [
    "buoy_tweets = api.user_timeline(screen_name = '@dublinbaybuoy',tweet_mode='extended',count=100)\n",
    "print(buoy_tweets[0].full_text)"
   ]
  },
  {
   "cell_type": "code",
   "execution_count": 10,
   "metadata": {
    "collapsed": true
   },
   "outputs": [],
   "source": [
    "# To get these keys & tokens go to https://apps.twitter.com and Create an App.\n",
    "# Then paste your keys, secrets and tokens here. \n",
    "# These are not real keys\n",
    "consumer_key = 'VeluQNXXXXXXXXXlxVIpr2SO'\n",
    "consumer_secret = 'IMXNL3Elwcc2COK9bCQBGCRFk3KEXXXXXXXXXXXXX'\n",
    "access_token = '39244841-Z4UTFbEYhbDTAHjpM8R20JhDo1neljGXXXXXXXXXXXXXXXX'\n",
    "access_token_secret = 'fE6v2SpdRFPu5Czfd6zRBEiftWtL57TXXXXXXXXXXXXXX'"
   ]
  },
  {
   "cell_type": "code",
   "execution_count": 11,
   "metadata": {
    "collapsed": true
   },
   "outputs": [],
   "source": [
    "# Correct keys are read from a file and the dummy keys above are overwritten.\n",
    "# Keys are loaded into a Pandas 'cos it is easy to do file I/O with Pandas\n",
    "import pandas as pd\n",
    "T_keys = pd.read_csv(open('TwitterKeys.txt'),index_col=\"Key\")\n",
    "consumer_key = T_keys.loc['consumer_key','String']\n",
    "consumer_secret = T_keys.loc['consumer_secret','String']\n",
    "access_token = T_keys.loc['access_token','String']\n",
    "access_token_secret = T_keys.loc['access_token_secret','String']"
   ]
  },
  {
   "cell_type": "code",
   "execution_count": 12,
   "metadata": {},
   "outputs": [],
   "source": [
    "import tweepy\n",
    "\n",
    "auth = tweepy.OAuthHandler(consumer_key, consumer_secret)\n",
    "auth.set_access_token(access_token, access_token_secret)\n",
    "\n",
    "api = tweepy.API(auth)"
   ]
  },
  {
   "cell_type": "code",
   "execution_count": 13,
   "metadata": {},
   "outputs": [
    {
     "data": {
      "text/plain": [
       "86"
      ]
     },
     "execution_count": 13,
     "metadata": {},
     "output_type": "execute_result"
    }
   ],
   "source": [
    "len(FN_tweets[0].full_text)"
   ]
  },
  {
   "cell_type": "code",
   "execution_count": 14,
   "metadata": {},
   "outputs": [
    {
     "data": {
      "text/plain": [
       "'11kts, Gust:14kts, Wind Dir:86 °(E), Gust Dir:105 °(E) at 03/03/2018 15:08:00'"
      ]
     },
     "execution_count": 14,
     "metadata": {},
     "output_type": "execute_result"
    }
   ],
   "source": [
    "FN_tweets[0].full_text.split('Wind:')[1]"
   ]
  },
  {
   "cell_type": "code",
   "execution_count": 15,
   "metadata": {},
   "outputs": [],
   "source": [
    "from datetime import datetime\n",
    "import matplotlib.pyplot as plt\n",
    "from matplotlib import dates\n",
    "%matplotlib inline\n",
    "\n",
    "def w_tweet_ext(tw):\n",
    "    ws = int(tw.full_text.split('Avg Wind:')[1].split('kts')[0])\n",
    "    t = tw.full_text.split(') at ')[1]\n",
    "    return t, ws\n",
    "\n",
    "tlist = []\n",
    "w = []\n",
    "d = []\n",
    "for t in FN_tweets:\n",
    "    if len(t.full_text) > 70:    #dealing with the occasional non-standard tweet.\n",
    "        tlist.append(t.full_text)\n",
    "        dtemp, wtemp = w_tweet_ext(t)  \n",
    "        d.append(datetime.strptime(dtemp, '%d/%m/%Y %H:%M:%S'))   #30/12/2017 18:29:00'\n",
    "        w.append(wtemp)"
   ]
  },
  {
   "cell_type": "code",
   "execution_count": 16,
   "metadata": {},
   "outputs": [
    {
     "data": {
      "text/html": [
       "<div>\n",
       "<style scoped>\n",
       "    .dataframe tbody tr th:only-of-type {\n",
       "        vertical-align: middle;\n",
       "    }\n",
       "\n",
       "    .dataframe tbody tr th {\n",
       "        vertical-align: top;\n",
       "    }\n",
       "\n",
       "    .dataframe thead th {\n",
       "        text-align: right;\n",
       "    }\n",
       "</style>\n",
       "<table border=\"1\" class=\"dataframe\">\n",
       "  <thead>\n",
       "    <tr style=\"text-align: right;\">\n",
       "      <th></th>\n",
       "      <th>Text</th>\n",
       "      <th>Wind</th>\n",
       "      <th>Date/Time</th>\n",
       "    </tr>\n",
       "  </thead>\n",
       "  <tbody>\n",
       "    <tr>\n",
       "      <th>0</th>\n",
       "      <td>Avg Wind:11kts, Gust:14kts, Wind Dir:86 °(E), ...</td>\n",
       "      <td>11</td>\n",
       "      <td>2018-03-03 15:08:00</td>\n",
       "    </tr>\n",
       "    <tr>\n",
       "      <th>1</th>\n",
       "      <td>Avg Wind:9kts, Gust:12kts, Wind Dir:77 °(E), G...</td>\n",
       "      <td>9</td>\n",
       "      <td>2018-03-03 14:50:00</td>\n",
       "    </tr>\n",
       "    <tr>\n",
       "      <th>2</th>\n",
       "      <td>Avg Wind:10kts, Gust:13kts, Wind Dir:43 °(NE),...</td>\n",
       "      <td>10</td>\n",
       "      <td>2018-03-03 14:26:00</td>\n",
       "    </tr>\n",
       "    <tr>\n",
       "      <th>3</th>\n",
       "      <td>Avg Wind:12kts, Gust:16kts, Wind Dir:54 °(NE),...</td>\n",
       "      <td>12</td>\n",
       "      <td>2018-03-03 14:08:00</td>\n",
       "    </tr>\n",
       "    <tr>\n",
       "      <th>4</th>\n",
       "      <td>Avg Wind:15kts, Gust:18kts, Wind Dir:42 °(NE),...</td>\n",
       "      <td>15</td>\n",
       "      <td>2018-03-03 13:50:00</td>\n",
       "    </tr>\n",
       "  </tbody>\n",
       "</table>\n",
       "</div>"
      ],
      "text/plain": [
       "                                                Text  Wind           Date/Time\n",
       "0  Avg Wind:11kts, Gust:14kts, Wind Dir:86 °(E), ...    11 2018-03-03 15:08:00\n",
       "1  Avg Wind:9kts, Gust:12kts, Wind Dir:77 °(E), G...     9 2018-03-03 14:50:00\n",
       "2  Avg Wind:10kts, Gust:13kts, Wind Dir:43 °(NE),...    10 2018-03-03 14:26:00\n",
       "3  Avg Wind:12kts, Gust:16kts, Wind Dir:54 °(NE),...    12 2018-03-03 14:08:00\n",
       "4  Avg Wind:15kts, Gust:18kts, Wind Dir:42 °(NE),...    15 2018-03-03 13:50:00"
      ]
     },
     "execution_count": 16,
     "metadata": {},
     "output_type": "execute_result"
    }
   ],
   "source": [
    "FNDf = pd.DataFrame(tlist,columns = ['Text'])\n",
    "FNDf['Wind']=w\n",
    "FNDf['Date/Time']=d\n",
    "FNDf.head()"
   ]
  },
  {
   "cell_type": "code",
   "execution_count": 17,
   "metadata": {},
   "outputs": [
    {
     "name": "stdout",
     "output_type": "stream",
     "text": [
      "Date/Time\n",
      "count                     100\n",
      "unique                    100\n",
      "top       2018-03-02 19:44:00\n",
      "freq                        1\n",
      "first     2018-03-02 07:44:00\n",
      "last      2018-03-03 15:08:00\n",
      "Name: Date/Time, dtype: object\n"
     ]
    },
    {
     "data": {
      "image/png": "[encoded data removed]",
      "text/plain": [
       "<matplotlib.figure.Figure at 0x10eb78320>"
      ]
     },
     "metadata": {},
     "output_type": "display_data"
    }
   ],
   "source": [
    "print(\"Date/Time\")\n",
    "print(FNDf[\"Date/Time\"].describe())\n",
    "\n",
    "fig = plt.figure()\n",
    "ax = fig.add_subplot(111)\n",
    "hour = dates.HourLocator()\n",
    "dfmt = dates.DateFormatter('%H')\n",
    "\n",
    "ax.xaxis.set_major_locator(hour)\n",
    "ax.xaxis.set_minor_locator(hour)\n",
    "\n",
    "\n",
    "ax.xaxis.set_major_formatter(dfmt)\n",
    "\n",
    "ax.grid()\n",
    "ax.set_ylabel('Wind Speed - kts')\n",
    "ax.set_xlabel('Time 3,4 Feb 2018')\n",
    "ax.set_title('Wind Speed @FastnetLHouse')\n",
    "ax.plot(FNDf[\"Date/Time\"],FNDf[\"Wind\"], linewidth=2, label ='Wind Speed')\n",
    "ax.legend(loc='upper left')\n",
    "fig.set_figwidth(12)\n",
    "fig.set_figheight(6)"
   ]
  },
  {
   "cell_type": "markdown",
   "metadata": {},
   "source": [
    "** Q2 **  \n",
    "Extend your solution for Q2 so that it plots the Gust data which is also available in the Fastnet tweets."
   ]
  },
  {
   "cell_type": "code",
   "execution_count": 18,
   "metadata": {},
   "outputs": [
    {
     "data": {
      "text/plain": [
       "'Avg Wind:11kts, Gust:14kts, Wind Dir:86 °(E), Gust Dir:105 °(E) at 03/03/2018 15:08:00'"
      ]
     },
     "execution_count": 18,
     "metadata": {},
     "output_type": "execute_result"
    }
   ],
   "source": [
    "FN_tweets[0].full_text"
   ]
  },
  {
   "cell_type": "code",
   "execution_count": 19,
   "metadata": {},
   "outputs": [
    {
     "data": {
      "text/plain": [
       "14"
      ]
     },
     "execution_count": 19,
     "metadata": {},
     "output_type": "execute_result"
    }
   ],
   "source": [
    "gs = int(FN_tweets[0].full_text.split('Gust:')[1].split('kts')[0])\n",
    "gs"
   ]
  },
  {
   "cell_type": "code",
   "execution_count": 20,
   "metadata": {
    "collapsed": true
   },
   "outputs": [],
   "source": [
    "from datetime import datetime\n",
    "import matplotlib.pyplot as plt\n",
    "from matplotlib import dates\n",
    "%matplotlib inline\n",
    "\n",
    "def w_tweet_ext(tw):\n",
    "    ws = int(tw.full_text.split('Avg Wind:')[1].split('kts')[0])\n",
    "    t = tw.full_text.split(') at ')[1]\n",
    "    gs = int(tw.full_text.split('Gust:')[1].split('kts')[0])\n",
    "    return t, ws, gs\n",
    "\n",
    "tlist = []\n",
    "w = []\n",
    "d = []\n",
    "g = []\n",
    "for t in FN_tweets:\n",
    "    if len(t.full_text) > 70:    #dealing with the occasional non-standard tweet.\n",
    "        dtemp, wtemp, gtemp = w_tweet_ext(t)  \n",
    "        tlist.append(t.full_text)\n",
    "        d.append(datetime.strptime(dtemp, '%d/%m/%Y %H:%M:%S'))   #30/12/2017 18:29:00'\n",
    "        w.append(wtemp)\n",
    "        g.append(gtemp)"
   ]
  },
  {
   "cell_type": "code",
   "execution_count": 21,
   "metadata": {},
   "outputs": [
    {
     "data": {
      "text/html": [
       "<div>\n",
       "<style scoped>\n",
       "    .dataframe tbody tr th:only-of-type {\n",
       "        vertical-align: middle;\n",
       "    }\n",
       "\n",
       "    .dataframe tbody tr th {\n",
       "        vertical-align: top;\n",
       "    }\n",
       "\n",
       "    .dataframe thead th {\n",
       "        text-align: right;\n",
       "    }\n",
       "</style>\n",
       "<table border=\"1\" class=\"dataframe\">\n",
       "  <thead>\n",
       "    <tr style=\"text-align: right;\">\n",
       "      <th></th>\n",
       "      <th>Text</th>\n",
       "      <th>Wind</th>\n",
       "      <th>Date/Time</th>\n",
       "      <th>Gust</th>\n",
       "    </tr>\n",
       "  </thead>\n",
       "  <tbody>\n",
       "    <tr>\n",
       "      <th>0</th>\n",
       "      <td>Avg Wind:11kts, Gust:14kts, Wind Dir:86 °(E), ...</td>\n",
       "      <td>11</td>\n",
       "      <td>2018-03-03 15:08:00</td>\n",
       "      <td>14</td>\n",
       "    </tr>\n",
       "    <tr>\n",
       "      <th>1</th>\n",
       "      <td>Avg Wind:9kts, Gust:12kts, Wind Dir:77 °(E), G...</td>\n",
       "      <td>9</td>\n",
       "      <td>2018-03-03 14:50:00</td>\n",
       "      <td>12</td>\n",
       "    </tr>\n",
       "    <tr>\n",
       "      <th>2</th>\n",
       "      <td>Avg Wind:10kts, Gust:13kts, Wind Dir:43 °(NE),...</td>\n",
       "      <td>10</td>\n",
       "      <td>2018-03-03 14:26:00</td>\n",
       "      <td>13</td>\n",
       "    </tr>\n",
       "    <tr>\n",
       "      <th>3</th>\n",
       "      <td>Avg Wind:12kts, Gust:16kts, Wind Dir:54 °(NE),...</td>\n",
       "      <td>12</td>\n",
       "      <td>2018-03-03 14:08:00</td>\n",
       "      <td>16</td>\n",
       "    </tr>\n",
       "    <tr>\n",
       "      <th>4</th>\n",
       "      <td>Avg Wind:15kts, Gust:18kts, Wind Dir:42 °(NE),...</td>\n",
       "      <td>15</td>\n",
       "      <td>2018-03-03 13:50:00</td>\n",
       "      <td>18</td>\n",
       "    </tr>\n",
       "  </tbody>\n",
       "</table>\n",
       "</div>"
      ],
      "text/plain": [
       "                                                Text  Wind  \\\n",
       "0  Avg Wind:11kts, Gust:14kts, Wind Dir:86 °(E), ...    11   \n",
       "1  Avg Wind:9kts, Gust:12kts, Wind Dir:77 °(E), G...     9   \n",
       "2  Avg Wind:10kts, Gust:13kts, Wind Dir:43 °(NE),...    10   \n",
       "3  Avg Wind:12kts, Gust:16kts, Wind Dir:54 °(NE),...    12   \n",
       "4  Avg Wind:15kts, Gust:18kts, Wind Dir:42 °(NE),...    15   \n",
       "\n",
       "            Date/Time  Gust  \n",
       "0 2018-03-03 15:08:00    14  \n",
       "1 2018-03-03 14:50:00    12  \n",
       "2 2018-03-03 14:26:00    13  \n",
       "3 2018-03-03 14:08:00    16  \n",
       "4 2018-03-03 13:50:00    18  "
      ]
     },
     "execution_count": 21,
     "metadata": {},
     "output_type": "execute_result"
    }
   ],
   "source": [
    "FNDf = pd.DataFrame(tlist,columns = ['Text'])\n",
    "FNDf['Wind']=w\n",
    "FNDf['Date/Time']=d\n",
    "FNDf['Gust']=g\n",
    "FNDf.head()"
   ]
  },
  {
   "cell_type": "code",
   "execution_count": 48,
   "metadata": {},
   "outputs": [
    {
     "data": {
      "text/plain": [
       "datetime.datetime(2018, 3, 3, 15, 8)"
      ]
     },
     "execution_count": 48,
     "metadata": {},
     "output_type": "execute_result"
    }
   ],
   "source": [
    "d[0]"
   ]
  },
  {
   "cell_type": "code",
   "execution_count": 51,
   "metadata": {},
   "outputs": [
    {
     "name": "stdout",
     "output_type": "stream",
     "text": [
      "Date/Time\n",
      "count                     100\n",
      "unique                    100\n",
      "top       2018-03-02 19:44:00\n",
      "freq                        1\n",
      "first     2018-03-02 07:44:00\n",
      "last      2018-03-03 15:08:00\n",
      "Name: Date/Time, dtype: object\n",
      "Wind\n",
      "count    100.000000\n",
      "mean      22.780000\n",
      "std        3.560672\n",
      "min        9.000000\n",
      "25%       22.000000\n",
      "50%       23.000000\n",
      "75%       25.000000\n",
      "max       28.000000\n",
      "Name: Wind, dtype: float64\n"
     ]
    },
    {
     "data": {
      "image/png": "[encoded data removed]",
      "text/plain": [
       "<matplotlib.figure.Figure at 0x10f2cd9e8>"
      ]
     },
     "metadata": {},
     "output_type": "display_data"
    }
   ],
   "source": [
    "print(\"Date/Time\")\n",
    "print(FNDf[\"Date/Time\"].describe())\n",
    "print(\"Wind\")\n",
    "print(FNDf[\"Wind\"].describe())\n",
    "\n",
    "\n",
    "fig = plt.figure()\n",
    "ax = fig.add_subplot(111)\n",
    "hour = dates.HourLocator()\n",
    "dfmt = dates.DateFormatter('%H')\n",
    "\n",
    "ax.xaxis.set_major_locator(hour)\n",
    "ax.xaxis.set_minor_locator(hour)\n",
    "\n",
    "\n",
    "ax.xaxis.set_major_formatter(dfmt)\n",
    "\n",
    "ax.grid()\n",
    "ax.set_ylabel('Wind Speed & Gusts - kts')\n",
    "ax.set_xlabel('Time 3,4 Feb 2018')\n",
    "ax.set_title('Wind Speed @FastnetLHouse')\n",
    "ax.plot(FNDf[\"Date/Time\"],FNDf[\"Wind\"], linewidth=2, label ='Wind Speed')\n",
    "ax.plot(FNDf[\"Date/Time\"],FNDf[\"Gust\"], linewidth=2, label ='Gust')\n",
    "ax.legend(loc='upper left')\n",
    "fig.set_figwidth(12)\n",
    "fig.set_figheight(6)"
   ]
  },
  {
   "cell_type": "markdown",
   "metadata": {},
   "source": [
    "### Question 3   \n",
    "Write code to build a data frame with the word frequencies of the corpus at the bottom of the L17 Notebook.  \n",
    "The code should return a dataframe of words with frequencies greater than 2 and return this dataframe sorted in descending order. "
   ]
  },
  {
   "cell_type": "code",
   "execution_count": 25,
   "metadata": {},
   "outputs": [],
   "source": [
    "potus44 = [\"I'm still asking you to believe - not in my ability to bring about change, but in yours. \\\n",
    "I believe in change because I believe in you.\",\n",
    " 'As we look forward, I want our first steps to reflect what matters most to you. Share your thoughts \\\n",
    " with me at https://t.co/fGUxlpLVue.',\n",
    " \"I won't stop; I'll be right there with you as a citizen, inspired by your voices of truth and justice, \\\n",
    " good humor, and love.\",\n",
    " \"It's been the honor of my life to serve you. You made me a better leader and a better man.\",\n",
    " 'Proud to make this one of my final actions as President. America is a nation of second chances, \\\n",
    " and 1,715 people deserved that shot. https://t.co/4hPxG7hqHL',\n",
    " 'RT @FLOTUS: Being your First Lady has been the honor of a lifetime. From the bottom of my heart, \\\n",
    " thank you. -mo https://t.co/pahEydkZ5Z',\n",
    " \"To the girl from the South Side who took on a role she didn't ask for and made it her own: \\\n",
    " Happy Birthday, Michelle. I love you. https://t.co/lvjfx418hn\",\n",
    " 'From one 44 to another, thanks for finally giving @FLOTUS and generations of hopeful fans a \\\n",
    " @Cubs championship. https://t.co/RnLyTYF2ub',\n",
    " 'In honor of their legacy, @FLOTUS and I are joining Americans across the country in a day of service \\\n",
    " to our community here in D.C. #MLKDay',\n",
    " 'Dr. King and those who marched with him proved that people who love their country can change it. \\\n",
    " As Americans, we all owe them a great deal.']"
   ]
  },
  {
   "cell_type": "code",
   "execution_count": 26,
   "metadata": {},
   "outputs": [],
   "source": [
    "potusL = ''\n",
    "for e in potus44:\n",
    "    potusL += e\n",
    "from textblob import TextBlob as tb\n",
    "potusTB = tb(potusL)"
   ]
  },
  {
   "cell_type": "code",
   "execution_count": 27,
   "metadata": {},
   "outputs": [
    {
     "data": {
      "text/plain": [
       "TextBlob(\"I'm still asking you to believe - not in my ability to bring about change, but in yours. I believe in change because I believe in you.As we look forward, I want our first steps to reflect what matters most to you. Share your thoughts  with me at https://t.co/fGUxlpLVue.I won't stop; I'll be right there with you as a citizen, inspired by your voices of truth and justice,  good humor, and love.It's been the honor of my life to serve you. You made me a better leader and a better man.Proud to make this one of my final actions as President. America is a nation of second chances,  and 1,715 people deserved that shot. https://t.co/4hPxG7hqHLRT @FLOTUS: Being your First Lady has been the honor of a lifetime. From the bottom of my heart,  thank you. -mo https://t.co/pahEydkZ5ZTo the girl from the South Side who took on a role she didn't ask for and made it her own:  Happy Birthday, Michelle. I love you. https://t.co/lvjfx418hnFrom one 44 to another, thanks for finally giving @FLOTUS and generations of hopeful fans a  @Cubs championship. https://t.co/RnLyTYF2ubIn honor of their legacy, @FLOTUS and I are joining Americans across the country in a day of service  to our community here in D.C. #MLKDayDr. King and those who marched with him proved that people who love their country can change it.  As Americans, we all owe them a great deal.\")"
      ]
     },
     "execution_count": 27,
     "metadata": {},
     "output_type": "execute_result"
    }
   ],
   "source": [
    "potusTB"
   ]
  },
  {
   "cell_type": "code",
   "execution_count": 28,
   "metadata": {},
   "outputs": [],
   "source": [
    "stop_words = set(['the', 'and','or', 'a', 'is', 'as','https','amp','at','if',\\\n",
    "                  'with', 'in', 'of','on','to','for','from','it','by','st'])\n",
    "# vocab is a set (no duplicates) of lowercase words with stop words removed\n",
    "vocab = set(potusTB.words.lower()) - stop_words\n",
    "# vocabDF is a DataFrame indexed by the vocab\n",
    "vocabDF = pd.DataFrame(index = list(vocab))\n",
    "for w in vocab:\n",
    "    # Note the count method defaults to not case sensitive\n",
    "    vocabDF.loc[w,'Count'] = potusTB.words.count(w) # Include count in DataFrame"
   ]
  },
  {
   "cell_type": "code",
   "execution_count": 29,
   "metadata": {},
   "outputs": [
    {
     "data": {
      "text/html": [
       "<div>\n",
       "<style scoped>\n",
       "    .dataframe tbody tr th:only-of-type {\n",
       "        vertical-align: middle;\n",
       "    }\n",
       "\n",
       "    .dataframe tbody tr th {\n",
       "        vertical-align: top;\n",
       "    }\n",
       "\n",
       "    .dataframe thead th {\n",
       "        text-align: right;\n",
       "    }\n",
       "</style>\n",
       "<table border=\"1\" class=\"dataframe\">\n",
       "  <thead>\n",
       "    <tr style=\"text-align: right;\">\n",
       "      <th></th>\n",
       "      <th>Count</th>\n",
       "    </tr>\n",
       "  </thead>\n",
       "  <tbody>\n",
       "    <tr>\n",
       "      <th>i</th>\n",
       "      <td>7.0</td>\n",
       "    </tr>\n",
       "    <tr>\n",
       "      <th>you</th>\n",
       "      <td>7.0</td>\n",
       "    </tr>\n",
       "    <tr>\n",
       "      <th>my</th>\n",
       "      <td>4.0</td>\n",
       "    </tr>\n",
       "    <tr>\n",
       "      <th>honor</th>\n",
       "      <td>3.0</td>\n",
       "    </tr>\n",
       "    <tr>\n",
       "      <th>your</th>\n",
       "      <td>3.0</td>\n",
       "    </tr>\n",
       "    <tr>\n",
       "      <th>change</th>\n",
       "      <td>3.0</td>\n",
       "    </tr>\n",
       "    <tr>\n",
       "      <th>flotus</th>\n",
       "      <td>3.0</td>\n",
       "    </tr>\n",
       "    <tr>\n",
       "      <th>who</th>\n",
       "      <td>3.0</td>\n",
       "    </tr>\n",
       "    <tr>\n",
       "      <th>believe</th>\n",
       "      <td>3.0</td>\n",
       "    </tr>\n",
       "  </tbody>\n",
       "</table>\n",
       "</div>"
      ],
      "text/plain": [
       "         Count\n",
       "i          7.0\n",
       "you        7.0\n",
       "my         4.0\n",
       "honor      3.0\n",
       "your       3.0\n",
       "change     3.0\n",
       "flotus     3.0\n",
       "who        3.0\n",
       "believe    3.0"
      ]
     },
     "execution_count": 29,
     "metadata": {},
     "output_type": "execute_result"
    }
   ],
   "source": [
    "# Select entries with a count > 1 and sort.\n",
    "vocabDF[vocabDF['Count']>2].sort_values(by='Count',ascending=False)"
   ]
  },
  {
   "cell_type": "markdown",
   "metadata": {},
   "source": [
    "### Question 4  \n",
    "Extend the code in Q1 to work with the last 20 tweets for a given Twitter handle.\n"
   ]
  },
  {
   "cell_type": "code",
   "execution_count": 30,
   "metadata": {},
   "outputs": [],
   "source": [
    "L_tweets = api.user_timeline(screen_name = '@campaignforleo',tweet_mode='extended',count=20)\n",
    "\n",
    "TL =''\n",
    "\n",
    "for t in L_tweets:\n",
    "    TL += t.full_text\n",
    "    \n",
    "from textblob import TextBlob as tb\n",
    "TTB = tb(TL)\n",
    "    \n",
    "# vocab is a set (no duplicates) of lowercase words with stop words removed\n",
    "vocab = set(TTB.words.lower()) - stop_words\n",
    "# vocabDF is a DataFrame indexed by the vocab\n",
    "vocabDF = pd.DataFrame(index = list(vocab))\n",
    "for w in vocab:\n",
    "    # Note the count method defaults to not case sensitive\n",
    "    vocabDF.loc[w,'Count'] = TTB.words.count(w) # Include count in DataFrame"
   ]
  },
  {
   "cell_type": "code",
   "execution_count": 31,
   "metadata": {},
   "outputs": [
    {
     "data": {
      "text/html": [
       "<div>\n",
       "<style scoped>\n",
       "    .dataframe tbody tr th:only-of-type {\n",
       "        vertical-align: middle;\n",
       "    }\n",
       "\n",
       "    .dataframe tbody tr th {\n",
       "        vertical-align: top;\n",
       "    }\n",
       "\n",
       "    .dataframe thead th {\n",
       "        text-align: right;\n",
       "    }\n",
       "</style>\n",
       "<table border=\"1\" class=\"dataframe\">\n",
       "  <thead>\n",
       "    <tr style=\"text-align: right;\">\n",
       "      <th></th>\n",
       "      <th>Count</th>\n",
       "    </tr>\n",
       "  </thead>\n",
       "  <tbody>\n",
       "    <tr>\n",
       "      <th>weather</th>\n",
       "      <td>8.0</td>\n",
       "    </tr>\n",
       "    <tr>\n",
       "      <th>conditions</th>\n",
       "      <td>7.0</td>\n",
       "    </tr>\n",
       "    <tr>\n",
       "      <th>warning</th>\n",
       "      <td>6.0</td>\n",
       "    </tr>\n",
       "    <tr>\n",
       "      <th>been</th>\n",
       "      <td>5.0</td>\n",
       "    </tr>\n",
       "    <tr>\n",
       "      <th>now</th>\n",
       "      <td>5.0</td>\n",
       "    </tr>\n",
       "    <tr>\n",
       "      <th>working</th>\n",
       "      <td>4.0</td>\n",
       "    </tr>\n",
       "    <tr>\n",
       "      <th>are</th>\n",
       "      <td>4.0</td>\n",
       "    </tr>\n",
       "    <tr>\n",
       "      <th>has</th>\n",
       "      <td>4.0</td>\n",
       "    </tr>\n",
       "    <tr>\n",
       "      <th>stay</th>\n",
       "      <td>3.0</td>\n",
       "    </tr>\n",
       "    <tr>\n",
       "      <th>thanks</th>\n",
       "      <td>3.0</td>\n",
       "    </tr>\n",
       "    <tr>\n",
       "      <th>public</th>\n",
       "      <td>3.0</td>\n",
       "    </tr>\n",
       "    <tr>\n",
       "      <th>emergency</th>\n",
       "      <td>3.0</td>\n",
       "    </tr>\n",
       "    <tr>\n",
       "      <th>extreme</th>\n",
       "      <td>3.0</td>\n",
       "    </tr>\n",
       "    <tr>\n",
       "      <th>update</th>\n",
       "      <td>3.0</td>\n",
       "    </tr>\n",
       "    <tr>\n",
       "      <th>this</th>\n",
       "      <td>3.0</td>\n",
       "    </tr>\n",
       "    <tr>\n",
       "      <th>lifted</th>\n",
       "      <td>3.0</td>\n",
       "    </tr>\n",
       "    <tr>\n",
       "      <th>national</th>\n",
       "      <td>3.0</td>\n",
       "    </tr>\n",
       "    <tr>\n",
       "      <th>what</th>\n",
       "      <td>3.0</td>\n",
       "    </tr>\n",
       "    <tr>\n",
       "      <th>i</th>\n",
       "      <td>3.0</td>\n",
       "    </tr>\n",
       "    <tr>\n",
       "      <th>remain</th>\n",
       "      <td>3.0</td>\n",
       "    </tr>\n",
       "    <tr>\n",
       "      <th>our</th>\n",
       "      <td>3.0</td>\n",
       "    </tr>\n",
       "    <tr>\n",
       "      <th>ice</th>\n",
       "      <td>3.0</td>\n",
       "    </tr>\n",
       "    <tr>\n",
       "      <th>treacherous</th>\n",
       "      <td>3.0</td>\n",
       "    </tr>\n",
       "    <tr>\n",
       "      <th>red</th>\n",
       "      <td>3.0</td>\n",
       "    </tr>\n",
       "    <tr>\n",
       "      <th>staff</th>\n",
       "      <td>3.0</td>\n",
       "    </tr>\n",
       "  </tbody>\n",
       "</table>\n",
       "</div>"
      ],
      "text/plain": [
       "             Count\n",
       "weather        8.0\n",
       "conditions     7.0\n",
       "warning        6.0\n",
       "been           5.0\n",
       "now            5.0\n",
       "working        4.0\n",
       "are            4.0\n",
       "has            4.0\n",
       "stay           3.0\n",
       "thanks         3.0\n",
       "public         3.0\n",
       "emergency      3.0\n",
       "extreme        3.0\n",
       "update         3.0\n",
       "this           3.0\n",
       "lifted         3.0\n",
       "national       3.0\n",
       "what           3.0\n",
       "i              3.0\n",
       "remain         3.0\n",
       "our            3.0\n",
       "ice            3.0\n",
       "treacherous    3.0\n",
       "red            3.0\n",
       "staff          3.0"
      ]
     },
     "execution_count": 31,
     "metadata": {},
     "output_type": "execute_result"
    }
   ],
   "source": [
    "# Select entries with a count > 1 and sort.\n",
    "vocabDF[vocabDF['Count']>2].sort_values(by='Count',ascending=False)"
   ]
  },
  {
   "cell_type": "markdown",
   "metadata": {},
   "source": [
    "** Supp Question **\n",
    "3rd March 2018: @dublinbaybuoy is out of action at the moment so this is an alternative"
   ]
  },
  {
   "cell_type": "code",
   "execution_count": 70,
   "metadata": {
    "collapsed": true
   },
   "outputs": [
    {
     "name": "stdout",
     "output_type": "stream",
     "text": [
      "Rainfall  1.5 mm/h Temperature 1C Windspeed 17 kts  Pressure 993 hPa  Source: Met Eireann\n"
     ]
    }
   ],
   "source": [
    "athenry_tweets = api.user_timeline(screen_name = '@athenryweather',count=100)\n",
    "print(athenry_tweets[25].text)"
   ]
  },
  {
   "cell_type": "code",
   "execution_count": 71,
   "metadata": {},
   "outputs": [
    {
     "data": {
      "text/html": [
       "<div>\n",
       "<style scoped>\n",
       "    .dataframe tbody tr th:only-of-type {\n",
       "        vertical-align: middle;\n",
       "    }\n",
       "\n",
       "    .dataframe tbody tr th {\n",
       "        vertical-align: top;\n",
       "    }\n",
       "\n",
       "    .dataframe thead th {\n",
       "        text-align: right;\n",
       "    }\n",
       "</style>\n",
       "<table border=\"1\" class=\"dataframe\">\n",
       "  <thead>\n",
       "    <tr style=\"text-align: right;\">\n",
       "      <th></th>\n",
       "      <th>Text</th>\n",
       "    </tr>\n",
       "  </thead>\n",
       "  <tbody>\n",
       "    <tr>\n",
       "      <th>0</th>\n",
       "      <td>Rainfall  0.0 mm/h Temperature 2C Windspeed 13...</td>\n",
       "    </tr>\n",
       "    <tr>\n",
       "      <th>1</th>\n",
       "      <td>Rainfall  0.0 mm/h Temperature 2C Windspeed 16...</td>\n",
       "    </tr>\n",
       "    <tr>\n",
       "      <th>2</th>\n",
       "      <td>Rainfall  0.0 mm/h Temperature 1C Windspeed 13...</td>\n",
       "    </tr>\n",
       "    <tr>\n",
       "      <th>3</th>\n",
       "      <td>Rainfall  0.0 mm/h Temperature 1C Windspeed 16...</td>\n",
       "    </tr>\n",
       "    <tr>\n",
       "      <th>4</th>\n",
       "      <td>Rainfall  0.0 mm/h Temperature 1C Windspeed 17...</td>\n",
       "    </tr>\n",
       "  </tbody>\n",
       "</table>\n",
       "</div>"
      ],
      "text/plain": [
       "                                                Text\n",
       "0  Rainfall  0.0 mm/h Temperature 2C Windspeed 13...\n",
       "1  Rainfall  0.0 mm/h Temperature 2C Windspeed 16...\n",
       "2  Rainfall  0.0 mm/h Temperature 1C Windspeed 13...\n",
       "3  Rainfall  0.0 mm/h Temperature 1C Windspeed 16...\n",
       "4  Rainfall  0.0 mm/h Temperature 1C Windspeed 17..."
      ]
     },
     "execution_count": 71,
     "metadata": {},
     "output_type": "execute_result"
    }
   ],
   "source": [
    "tlist = []\n",
    "for t in athenry_tweets:\n",
    "    tlist.append(t.text)\n",
    "atDf = pd.DataFrame(tlist,columns = ['Text'])\n",
    "atDf.head()"
   ]
  },
  {
   "cell_type": "code",
   "execution_count": 72,
   "metadata": {},
   "outputs": [
    {
     "name": "stdout",
     "output_type": "stream",
     "text": [
      "[2, 2, 1, 1, 1, 1, 1, 1, 1, 0, 0, 0, 0, 0, 0, 1, 0, 0, 0, 0, 0, 0, 1, 1, 1, 1, 0, 0, 0, 0, 0, 0, 0, -1, -1, -1, -1, -1, -1, -1, -1, -1, -1, -2, -2, -2, -2, -3, -3, -4, -4, -5, -5, -5, -5, -5, -5, -5, -4, -5, -4, -4, -3, -3, -3, -2, -1, -1, -1, -2, -1, 0, -2, -2, -2, -2, -3, -3, -3, -3, -3, -3, -2, -2, -2, -2, -1, 0, 0, 1, 3, 4, 5, 4, 5, 3, 2, 0, -2, -3]\n",
      "2018-03-03 14:05:18\n"
     ]
    }
   ],
   "source": [
    "temp_arr = []\n",
    "date_arr = []\n",
    "for tweet in athenry_tweets:\n",
    "#    time_arr.append(tweet.created_at.__format__('%Y-%m-%d'))\n",
    "    date_arr.append(tweet.created_at)\n",
    "    temp_arr.append(int(tweet.text.split('Temperature ')[1].split('C')[0]))\n",
    "print(temp_arr)\n",
    "print(date_arr[0])"
   ]
  },
  {
   "cell_type": "code",
   "execution_count": 73,
   "metadata": {},
   "outputs": [
    {
     "data": {
      "text/plain": [
       "datetime.datetime(2018, 3, 3, 14, 5, 18)"
      ]
     },
     "execution_count": 73,
     "metadata": {},
     "output_type": "execute_result"
    }
   ],
   "source": [
    "date_arr[0]\n",
    "# From above: datetime.datetime(2018, 3, 3, 15, 8)"
   ]
  },
  {
   "cell_type": "code",
   "execution_count": 74,
   "metadata": {},
   "outputs": [
    {
     "data": {
      "text/html": [
       "<div>\n",
       "<style scoped>\n",
       "    .dataframe tbody tr th:only-of-type {\n",
       "        vertical-align: middle;\n",
       "    }\n",
       "\n",
       "    .dataframe tbody tr th {\n",
       "        vertical-align: top;\n",
       "    }\n",
       "\n",
       "    .dataframe thead th {\n",
       "        text-align: right;\n",
       "    }\n",
       "</style>\n",
       "<table border=\"1\" class=\"dataframe\">\n",
       "  <thead>\n",
       "    <tr style=\"text-align: right;\">\n",
       "      <th></th>\n",
       "      <th>Text</th>\n",
       "      <th>Temperature</th>\n",
       "      <th>Date/Time</th>\n",
       "    </tr>\n",
       "  </thead>\n",
       "  <tbody>\n",
       "    <tr>\n",
       "      <th>0</th>\n",
       "      <td>Rainfall  0.0 mm/h Temperature 2C Windspeed 13...</td>\n",
       "      <td>2</td>\n",
       "      <td>2018-03-03 14:05:18</td>\n",
       "    </tr>\n",
       "    <tr>\n",
       "      <th>1</th>\n",
       "      <td>Rainfall  0.0 mm/h Temperature 2C Windspeed 16...</td>\n",
       "      <td>2</td>\n",
       "      <td>2018-03-03 13:05:18</td>\n",
       "    </tr>\n",
       "    <tr>\n",
       "      <th>2</th>\n",
       "      <td>Rainfall  0.0 mm/h Temperature 1C Windspeed 13...</td>\n",
       "      <td>1</td>\n",
       "      <td>2018-03-03 12:05:18</td>\n",
       "    </tr>\n",
       "    <tr>\n",
       "      <th>3</th>\n",
       "      <td>Rainfall  0.0 mm/h Temperature 1C Windspeed 16...</td>\n",
       "      <td>1</td>\n",
       "      <td>2018-03-03 11:05:18</td>\n",
       "    </tr>\n",
       "    <tr>\n",
       "      <th>4</th>\n",
       "      <td>Rainfall  0.0 mm/h Temperature 1C Windspeed 17...</td>\n",
       "      <td>1</td>\n",
       "      <td>2018-03-03 10:05:19</td>\n",
       "    </tr>\n",
       "  </tbody>\n",
       "</table>\n",
       "</div>"
      ],
      "text/plain": [
       "                                                Text  Temperature  \\\n",
       "0  Rainfall  0.0 mm/h Temperature 2C Windspeed 13...            2   \n",
       "1  Rainfall  0.0 mm/h Temperature 2C Windspeed 16...            2   \n",
       "2  Rainfall  0.0 mm/h Temperature 1C Windspeed 13...            1   \n",
       "3  Rainfall  0.0 mm/h Temperature 1C Windspeed 16...            1   \n",
       "4  Rainfall  0.0 mm/h Temperature 1C Windspeed 17...            1   \n",
       "\n",
       "            Date/Time  \n",
       "0 2018-03-03 14:05:18  \n",
       "1 2018-03-03 13:05:18  \n",
       "2 2018-03-03 12:05:18  \n",
       "3 2018-03-03 11:05:18  \n",
       "4 2018-03-03 10:05:19  "
      ]
     },
     "execution_count": 74,
     "metadata": {},
     "output_type": "execute_result"
    }
   ],
   "source": [
    "atDf['Temperature']=temp_arr\n",
    "atDf['Date/Time']=date_arr\n",
    "atDf.head()"
   ]
  },
  {
   "cell_type": "code",
   "execution_count": 80,
   "metadata": {},
   "outputs": [
    {
     "name": "stdout",
     "output_type": "stream",
     "text": [
      "Date/Time\n",
      "count                     100\n",
      "unique                    100\n",
      "top       2018-02-28 20:05:18\n",
      "freq                        1\n",
      "first     2018-02-27 08:05:18\n",
      "last      2018-03-03 14:05:18\n",
      "Name: Date/Time, dtype: object\n",
      "Temperature\n",
      "count    100.000000\n",
      "mean      -0.980000\n",
      "std        2.229191\n",
      "min       -5.000000\n",
      "25%       -2.250000\n",
      "50%       -1.000000\n",
      "75%        0.000000\n",
      "max        5.000000\n",
      "Name: Temperature, dtype: float64\n"
     ]
    },
    {
     "data": {
      "image/png": "[encoded data removed]",
      "text/plain": [
       "<matplotlib.figure.Figure at 0x11266a828>"
      ]
     },
     "metadata": {},
     "output_type": "display_data"
    }
   ],
   "source": [
    "print(\"Date/Time\")\n",
    "print(atDf[\"Date/Time\"].describe())\n",
    "print(\"Temperature\")\n",
    "print(atDf[\"Temperature\"].describe())\n",
    "\n",
    "#plt.rcdefaults()\n",
    "#'%d/%m/%Y %H:%M:%S'\n",
    "\n",
    "fig = plt.figure()\n",
    "ax = fig.add_subplot(111)\n",
    "hour = dates.HourLocator()\n",
    "day = dates.DayLocator()\n",
    "dfmt = dates.DateFormatter('%d/%m')\n",
    "\n",
    "ax.xaxis.set_major_locator(day)\n",
    "ax.xaxis.set_minor_locator(hour)\n",
    "ax.xaxis.set_major_formatter(dfmt)\n",
    "\n",
    "ax.grid()\n",
    "ax.set_ylabel('Celcius')\n",
    "ax.set_xlabel('28 Feb - 3 March 2018')\n",
    "ax.set_title('Temperature @athenryweather')\n",
    "ax.plot(atDf[\"Date/Time\"],atDf[\"Temperature\"], linewidth=2, label ='Temperature')\n",
    "ax.legend(loc='upper left')\n",
    "fig.set_figwidth(12)\n",
    "fig.set_figheight(6)"
   ]
  },
  {
   "cell_type": "code",
   "execution_count": 37,
   "metadata": {},
   "outputs": [
    {
     "data": {
      "text/plain": [
       "datetime.datetime(2018, 3, 3, 14, 5, 18)"
      ]
     },
     "execution_count": 37,
     "metadata": {},
     "output_type": "execute_result"
    }
   ],
   "source": [
    "athenry_tweets[0].created_at"
   ]
  },
  {
   "cell_type": "code",
   "execution_count": 36,
   "metadata": {},
   "outputs": [
    {
     "data": {
      "text/plain": [
       "['__class__',\n",
       " '__delattr__',\n",
       " '__dict__',\n",
       " '__dir__',\n",
       " '__doc__',\n",
       " '__eq__',\n",
       " '__format__',\n",
       " '__ge__',\n",
       " '__getattribute__',\n",
       " '__getstate__',\n",
       " '__gt__',\n",
       " '__hash__',\n",
       " '__init__',\n",
       " '__le__',\n",
       " '__lt__',\n",
       " '__module__',\n",
       " '__ne__',\n",
       " '__new__',\n",
       " '__reduce__',\n",
       " '__reduce_ex__',\n",
       " '__repr__',\n",
       " '__setattr__',\n",
       " '__sizeof__',\n",
       " '__str__',\n",
       " '__subclasshook__',\n",
       " '__weakref__',\n",
       " '_api',\n",
       " '_json',\n",
       " 'author',\n",
       " 'contributors',\n",
       " 'coordinates',\n",
       " 'created_at',\n",
       " 'destroy',\n",
       " 'entities',\n",
       " 'favorite',\n",
       " 'favorite_count',\n",
       " 'favorited',\n",
       " 'geo',\n",
       " 'id',\n",
       " 'id_str',\n",
       " 'in_reply_to_screen_name',\n",
       " 'in_reply_to_status_id',\n",
       " 'in_reply_to_status_id_str',\n",
       " 'in_reply_to_user_id',\n",
       " 'in_reply_to_user_id_str',\n",
       " 'is_quote_status',\n",
       " 'lang',\n",
       " 'parse',\n",
       " 'parse_list',\n",
       " 'place',\n",
       " 'retweet',\n",
       " 'retweet_count',\n",
       " 'retweeted',\n",
       " 'retweets',\n",
       " 'source',\n",
       " 'source_url',\n",
       " 'text',\n",
       " 'truncated',\n",
       " 'user']"
      ]
     },
     "execution_count": 36,
     "metadata": {},
     "output_type": "execute_result"
    }
   ],
   "source": [
    "dir(athenry_tweets[0])"
   ]
  }
 ],
 "metadata": {
  "kernelspec": {
   "display_name": "Python 3",
   "language": "python",
   "name": "python3"
  },
  "language_info": {
   "codemirror_mode": {
    "name": "ipython",
    "version": 3
   },
   "file_extension": ".py",
   "mimetype": "text/x-python",
   "name": "python",
   "nbconvert_exporter": "python",
   "pygments_lexer": "ipython3",
   "version": "3.6.3"
  }
 },
 "nbformat": 4,
 "nbformat_minor": 2
}
